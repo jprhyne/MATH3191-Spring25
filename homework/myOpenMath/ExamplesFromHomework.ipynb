{
 "cells": [
  {
   "cell_type": "code",
   "execution_count": 2,
   "id": "2ed4d16c-093c-4c84-a99c-03c4fb54be4c",
   "metadata": {},
   "outputs": [],
   "source": [
    "import sympy as sym\n",
    "import numpy as np"
   ]
  },
  {
   "cell_type": "code",
   "execution_count": 13,
   "id": "f66d3e7a-d8fb-408a-a9a3-f85869e52d8f",
   "metadata": {},
   "outputs": [
    {
     "data": {
      "text/latex": [
       "$\\displaystyle \\left[\\begin{matrix}0.82 & -0.12 & -0.13 & 160\\\\-0.04 & 0.97 & -0.03 & 240\\\\-0.14 & -0.04 & 0.95 & 230\\end{matrix}\\right]$"
      ],
      "text/plain": [
       "Matrix([\n",
       "[ 0.82, -0.12, -0.13, 160],\n",
       "[-0.04,  0.97, -0.03, 240],\n",
       "[-0.14, -0.04,  0.95, 230]])"
      ]
     },
     "metadata": {},
     "output_type": "display_data"
    }
   ],
   "source": [
    "A = sym.Matrix([[.82, -.12, -.13, 160],[-.04, .97, -.03, 240],[-.14, -.04, .95, 230]])\n",
    "display(A)"
   ]
  },
  {
   "cell_type": "code",
   "execution_count": 14,
   "id": "3c8dc57a-2ac8-4ab5-8ae8-80ce8ef545a9",
   "metadata": {},
   "outputs": [],
   "source": [
    "[RREF, pivots] = A.rref()"
   ]
  },
  {
   "cell_type": "code",
   "execution_count": 15,
   "id": "579a025e-2d19-475d-83f3-d6aed46be494",
   "metadata": {},
   "outputs": [
    {
     "name": "stdout",
     "output_type": "stream",
     "text": [
      "Matrix([[281.100694254633], [268.132619034603], [294.820423112666]])\n"
     ]
    }
   ],
   "source": [
    "print(RREF[:,3])"
   ]
  },
  {
   "cell_type": "code",
   "execution_count": 4,
   "id": "71a95d54-012d-442d-808f-7878b46f0faa",
   "metadata": {},
   "outputs": [
    {
     "data": {
      "text/latex": [
       "$\\displaystyle \\left[\\begin{matrix}4 & -2 & 5 & -5\\\\-9 & 7 & -8 & 0\\\\-6 & 4 & 5 & 3\\\\5 & -3 & 8 & -4\\end{matrix}\\right]$"
      ],
      "text/plain": [
       "Matrix([\n",
       "[ 4, -2,  5, -5],\n",
       "[-9,  7, -8,  0],\n",
       "[-6,  4,  5,  3],\n",
       "[ 5, -3,  8, -4]])"
      ]
     },
     "metadata": {},
     "output_type": "display_data"
    }
   ],
   "source": [
    "A = sym.Matrix([[4, -2, 5, -5],\n",
    "               [-9, 7, -8, 0],\n",
    "               [-6, 4, 5, 3],\n",
    "               [5, -3, 8, -4]])\n",
    "display(A)"
   ]
  },
  {
   "cell_type": "code",
   "execution_count": 5,
   "id": "a049f308-b9f9-424d-b21b-59a044986a59",
   "metadata": {},
   "outputs": [
    {
     "data": {
      "text/latex": [
       "$\\displaystyle \\left[\\begin{matrix}4 & -2 & 5 & -5 & 0\\\\-9 & 7 & -8 & 0 & 0\\\\-6 & 4 & 5 & 3 & 0\\\\5 & -3 & 8 & -4 & 0\\end{matrix}\\right]$"
      ],
      "text/plain": [
       "Matrix([\n",
       "[ 4, -2,  5, -5, 0],\n",
       "[-9,  7, -8,  0, 0],\n",
       "[-6,  4,  5,  3, 0],\n",
       "[ 5, -3,  8, -4, 0]])"
      ]
     },
     "metadata": {},
     "output_type": "display_data"
    }
   ],
   "source": [
    "A = sym.Matrix([[4, -2, 5, -5, 0],\n",
    "               [-9, 7, -8, 0, 0],\n",
    "               [-6, 4, 5, 3, 0],\n",
    "               [5, -3, 8, -4, 0]])\n",
    "display(A)"
   ]
  },
  {
   "cell_type": "code",
   "execution_count": 6,
   "id": "d1600b2d-ad57-46f7-8d4e-213a950c8946",
   "metadata": {},
   "outputs": [],
   "source": [
    "[RREF, pivots] = A.rref()"
   ]
  },
  {
   "cell_type": "code",
   "execution_count": 7,
   "id": "31af86fd-bc3c-446e-a8b3-5a01da38b030",
   "metadata": {},
   "outputs": [
    {
     "data": {
      "text/latex": [
       "$\\displaystyle \\left[\\begin{matrix}1 & 0 & 0 & - \\frac{7}{2} & 0\\\\0 & 1 & 0 & - \\frac{9}{2} & 0\\\\0 & 0 & 1 & 0 & 0\\\\0 & 0 & 0 & 0 & 0\\end{matrix}\\right]$"
      ],
      "text/plain": [
       "Matrix([\n",
       "[1, 0, 0, -7/2, 0],\n",
       "[0, 1, 0, -9/2, 0],\n",
       "[0, 0, 1,    0, 0],\n",
       "[0, 0, 0,    0, 0]])"
      ]
     },
     "metadata": {},
     "output_type": "display_data"
    }
   ],
   "source": [
    "display(RREF)"
   ]
  },
  {
   "cell_type": "code",
   "execution_count": 8,
   "id": "9366cc37-e90a-4fab-9ffe-96584a72a026",
   "metadata": {},
   "outputs": [
    {
     "data": {
      "text/latex": [
       "$\\displaystyle \\left[\\begin{matrix}4 & -2 & 5 & -5 & 7\\\\-9 & 7 & -8 & 0 & 5\\\\-6 & 4 & 5 & 3 & 9\\\\5 & -3 & 8 & -4 & 7\\end{matrix}\\right]$"
      ],
      "text/plain": [
       "Matrix([\n",
       "[ 4, -2,  5, -5, 7],\n",
       "[-9,  7, -8,  0, 5],\n",
       "[-6,  4,  5,  3, 9],\n",
       "[ 5, -3,  8, -4, 7]])"
      ]
     },
     "metadata": {},
     "output_type": "display_data"
    }
   ],
   "source": [
    "A = sym.Matrix([[4, -2, 5, -5, 7],\n",
    "               [-9, 7, -8, 0, 5],\n",
    "               [-6, 4, 5, 3, 9],\n",
    "               [5, -3, 8, -4, 7]])\n",
    "display(A)"
   ]
  },
  {
   "cell_type": "code",
   "execution_count": 9,
   "id": "6170669b-0ac3-403b-8cf8-60432ec7e5a1",
   "metadata": {},
   "outputs": [],
   "source": [
    "[RREF, pivots] = A.rref()"
   ]
  },
  {
   "cell_type": "code",
   "execution_count": 10,
   "id": "1c770404-f139-4eb3-a90f-2a5a67beb0ab",
   "metadata": {},
   "outputs": [
    {
     "data": {
      "text/latex": [
       "$\\displaystyle \\left[\\begin{matrix}1 & 0 & 0 & - \\frac{7}{2} & 4\\\\0 & 1 & 0 & - \\frac{9}{2} & 7\\\\0 & 0 & 1 & 0 & 1\\\\0 & 0 & 0 & 0 & 0\\end{matrix}\\right]$"
      ],
      "text/plain": [
       "Matrix([\n",
       "[1, 0, 0, -7/2, 4],\n",
       "[0, 1, 0, -9/2, 7],\n",
       "[0, 0, 1,    0, 1],\n",
       "[0, 0, 0,    0, 0]])"
      ]
     },
     "metadata": {},
     "output_type": "display_data"
    }
   ],
   "source": [
    "display(RREF)"
   ]
  }
 ],
 "metadata": {
  "kernelspec": {
   "display_name": "Python 3 (ipykernel)",
   "language": "python",
   "name": "python3"
  },
  "language_info": {
   "codemirror_mode": {
    "name": "ipython",
    "version": 3
   },
   "file_extension": ".py",
   "mimetype": "text/x-python",
   "name": "python",
   "nbconvert_exporter": "python",
   "pygments_lexer": "ipython3",
   "version": "3.13.2"
  }
 },
 "nbformat": 4,
 "nbformat_minor": 5
}
