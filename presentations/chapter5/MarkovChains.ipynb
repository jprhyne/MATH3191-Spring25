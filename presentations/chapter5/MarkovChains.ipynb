{
 "cells": [
  {
   "cell_type": "code",
   "execution_count": 1,
   "id": "3c5a19a2-2b3f-4f17-967b-11d7d7973d5d",
   "metadata": {},
   "outputs": [],
   "source": [
    "import numpy as np\n",
    "import sympy as sym\n",
    "sym.init_printing()"
   ]
  },
  {
   "cell_type": "markdown",
   "id": "84212528-9512-47bd-a08f-397dbfd8a09a",
   "metadata": {},
   "source": [
    "---\n",
    "# Higher Powers of a Stochastic Matrix\n",
    "\n",
    "---"
   ]
  },
  {
   "cell_type": "code",
   "execution_count": 2,
   "id": "79027863-61cb-4653-ab51-654e2c484cf7",
   "metadata": {},
   "outputs": [
    {
     "name": "stdout",
     "output_type": "stream",
     "text": [
      "n = 3\n",
      "[[0.844 0.78 ]\n",
      " [0.156 0.22 ]]\n",
      "\n",
      "n = 5\n",
      "[[0.83504 0.8248 ]\n",
      " [0.16496 0.1752 ]]\n",
      "\n",
      "n = 10\n",
      "[[0.83335081 0.83324595]\n",
      " [0.16664919 0.16675405]]\n",
      "\n",
      "n = 100\n",
      "[[0.83333333 0.83333333]\n",
      " [0.16666667 0.16666667]]\n",
      "\n",
      "n = 1000\n",
      "[[0.83333333 0.83333333]\n",
      " [0.16666667 0.16666667]]\n",
      "\n"
     ]
    }
   ],
   "source": [
    "nVec = np.array([3, 5, 10, 100, 1000])\n",
    "A = np.array([[.9, .5],[.1, .5]])\n",
    "for n in nVec:\n",
    "    # Function that computes A^n in a more efficient and accurate way\n",
    "    An = np.linalg.matrix_power(A,n)\n",
    "    print(\"n = \" + str(n))\n",
    "    print(An)\n",
    "    print(\"\")"
   ]
  },
  {
   "cell_type": "markdown",
   "id": "193ebc66-773c-4d4f-8a93-77d43af95d7d",
   "metadata": {},
   "source": [
    "---\n",
    "# Eigenvalues of $A^n$ (Positive Stochastic)\n",
    "\n",
    "---"
   ]
  },
  {
   "cell_type": "code",
   "execution_count": 3,
   "id": "9e66c504-35b2-498f-8564-b43d5ab87ad0",
   "metadata": {},
   "outputs": [
    {
     "name": "stdout",
     "output_type": "stream",
     "text": [
      "[[ 0.98058068 -0.70710678]\n",
      " [ 0.19611614  0.70710678]]\n",
      "[1.  0.4]\n"
     ]
    }
   ],
   "source": [
    "# Lets look at the eigenvalues of A\n",
    "D,V = np.linalg.eig(A)\n",
    "print(V) # Print out the eigenvectors\n",
    "print(D) # Print out the eigenvalues\n",
    "# Convert the eigenvalue array into a diagonal matrix\n",
    "D = np.diag(D)"
   ]
  },
  {
   "cell_type": "code",
   "execution_count": 4,
   "id": "42063696-0b2a-4bf1-8d7c-502df99e8f58",
   "metadata": {},
   "outputs": [
    {
     "name": "stdout",
     "output_type": "stream",
     "text": [
      "n = 1\n",
      "[[1.  0. ]\n",
      " [0.  0.4]]\n",
      "\n",
      "n = 2\n",
      "[[1.   0.  ]\n",
      " [0.   0.16]]\n",
      "\n",
      "n = 3\n",
      "[[1.    0.   ]\n",
      " [0.    0.064]]\n",
      "\n",
      "n = 4\n",
      "[[1.     0.    ]\n",
      " [0.     0.0256]]\n",
      "\n"
     ]
    }
   ],
   "source": [
    "for n in range(1,5):\n",
    "    Dn = np.linalg.matrix_power(D,n)\n",
    "    print(\"n = \" + str(n))\n",
    "    print(Dn)\n",
    "    print(\"\")"
   ]
  },
  {
   "cell_type": "code",
   "execution_count": 5,
   "id": "6a42f6f0-cb77-4949-8083-a8a9026bd391",
   "metadata": {},
   "outputs": [
    {
     "name": "stdout",
     "output_type": "stream",
     "text": [
      "n = 5\n",
      "[[1.      0.     ]\n",
      " [0.      0.01024]]\n",
      "\n",
      "n = 6\n",
      "[[1.       0.      ]\n",
      " [0.       0.004096]]\n",
      "\n",
      "n = 7\n",
      "[[1.        0.       ]\n",
      " [0.        0.0016384]]\n",
      "\n",
      "n = 8\n",
      "[[1.0000e+00 0.0000e+00]\n",
      " [0.0000e+00 6.5536e-04]]\n",
      "\n",
      "n = 9\n",
      "[[1.00000e+00 0.00000e+00]\n",
      " [0.00000e+00 2.62144e-04]]\n",
      "\n"
     ]
    }
   ],
   "source": [
    "for n in range(5,10):\n",
    "    Dn = np.linalg.matrix_power(D,n)\n",
    "    print(\"n = \" + str(n))\n",
    "    print(Dn)\n",
    "    print(\"\")"
   ]
  },
  {
   "cell_type": "code",
   "execution_count": 6,
   "id": "817bf4d7-6b87-418f-8249-3b8cf529d1e6",
   "metadata": {},
   "outputs": [
    {
     "name": "stdout",
     "output_type": "stream",
     "text": [
      "n = 3\n",
      "[[1.    0.   ]\n",
      " [0.    0.064]]\n",
      "\n",
      "n = 5\n",
      "[[1.      0.     ]\n",
      " [0.      0.01024]]\n",
      "\n",
      "n = 10\n",
      "[[1.000000e+00 0.000000e+00]\n",
      " [0.000000e+00 1.048576e-04]]\n",
      "\n",
      "n = 100\n",
      "[[1.00000000e+00 0.00000000e+00]\n",
      " [0.00000000e+00 1.60693804e-40]]\n",
      "\n",
      "n = 1000\n",
      "[[1. 0.]\n",
      " [0. 0.]]\n",
      "\n"
     ]
    }
   ],
   "source": [
    "for n in nVec:\n",
    "    # Function that computes A^n in a more efficient and accurate way\n",
    "    Dn = np.linalg.matrix_power(D,n)\n",
    "    print(\"n = \" + str(n))\n",
    "    print(Dn)\n",
    "    print(\"\")"
   ]
  },
  {
   "cell_type": "markdown",
   "id": "edc26c82-ace1-4f36-9baa-ac33175d36c0",
   "metadata": {},
   "source": [
    "---\n",
    "# Steady State Solution\n",
    "\n",
    "---"
   ]
  },
  {
   "cell_type": "code",
   "execution_count": 7,
   "id": "1a49c026-2212-416c-a075-032c08b6965e",
   "metadata": {},
   "outputs": [],
   "source": [
    "A = np.array([\n",
    "    [.3, .4, .5],\n",
    "    [.3, .4, .3],\n",
    "    [.4, .2, .2]])\n",
    "D,V = np.linalg.eig(A)"
   ]
  },
  {
   "cell_type": "code",
   "execution_count": 8,
   "id": "60ea3601-34d1-4013-8061-6dfb6b1cf255",
   "metadata": {},
   "outputs": [
    {
     "name": "stdout",
     "output_type": "stream",
     "text": [
      "[ 1.  -0.2  0.1]\n"
     ]
    }
   ],
   "source": [
    "print(D) # Prints out the eigenvalues so we know which vector to grab"
   ]
  },
  {
   "cell_type": "code",
   "execution_count": 9,
   "id": "49f0c9b4-8b24-4b43-a66e-15dac3df4d58",
   "metadata": {},
   "outputs": [
    {
     "name": "stdout",
     "output_type": "stream",
     "text": [
      "[-0.66742381 -0.57207755 -0.47673129]\n",
      "[0.38888889 0.33333333 0.27777778]\n"
     ]
    }
   ],
   "source": [
    "v = V[0:3,0] # This is the eigenvector associated with 1\n",
    "print(v)\n",
    "w = v/sum(v) # This makes it the steady state\n",
    "print(w)"
   ]
  }
 ],
 "metadata": {
  "kernelspec": {
   "display_name": "Python 3 (ipykernel)",
   "language": "python",
   "name": "python3"
  },
  "language_info": {
   "codemirror_mode": {
    "name": "ipython",
    "version": 3
   },
   "file_extension": ".py",
   "mimetype": "text/x-python",
   "name": "python",
   "nbconvert_exporter": "python",
   "pygments_lexer": "ipython3",
   "version": "3.13.2"
  }
 },
 "nbformat": 4,
 "nbformat_minor": 5
}
